{
 "cells": [
  {
   "cell_type": "markdown",
   "id": "b3277f8b",
   "metadata": {},
   "source": [
    "## Приложение А\n",
    "\n",
    "### Демонстрация"
   ]
  },
  {
   "cell_type": "markdown",
   "id": "68ec406a",
   "metadata": {},
   "source": [
    "### Часть 4.1 Демонстрация работы блочного шифра Кузнечик"
   ]
  },
  {
   "cell_type": "markdown",
   "id": "b59c5650",
   "metadata": {},
   "source": [
    "1) Чтобы запустить код выполните следующие действия:\n",
    "\n",
    "\n",
    "```evgeny@hp:~/cricket$ python3 cricket.py <command> <mode> <path/to/file> <key>``` , где:\n",
    "\n",
    "`<command>` - <i>--encrypt</i> - чтобы зашифровать файл, <i>--decrypt</i> - чтобы расшифровать\n",
    "\n",
    "`<mode>` - режим шифрования / расшифрования (--dummy / --counter)\n",
    "\n",
    "`<path/to/file>` - путь к файлу. При зашифровании имя зашифрованного файла будет содержать дополнительное расширение `.enc`. При расшифровании - данное расширение, если оно имеется, будет удалено \n",
    "\n",
    "`<key>` - 256-битный ключ в виде строки"
   ]
  },
  {
   "cell_type": "code",
   "execution_count": 1,
   "id": "f96ff115",
   "metadata": {},
   "outputs": [
    {
     "data": {
      "text/plain": [
       "<cricket.Cricket at 0x7c9743136950>"
      ]
     },
     "execution_count": 1,
     "metadata": {},
     "output_type": "execute_result"
    }
   ],
   "source": [
    "# Демонстрация работы блочного шифра Кузнечик\n",
    "# импорт классов\n",
    "from cricket import Cricket\n",
    "\n",
    "# Создам объект класса Cricket и передам ему 256-битный ключ\n",
    "cricket = Cricket(\"8899aabbccddeeff0011223344556677fedcba98765432100123456789abcdef\")\n",
    "# Объект класса готов к работе\n",
    "cricket"
   ]
  },
  {
   "cell_type": "code",
   "execution_count": 2,
   "id": "0d7423c7",
   "metadata": {},
   "outputs": [
    {
     "data": {
      "text/plain": [
       "[181572891734806641530322838679085999735,\n",
       " 338770000845734292516042252062085074415,\n",
       " 291356820539020174378226036445198912580,\n",
       " 81442876851760348854807460057096125700,\n",
       " 116164101860579397447240808000140210604,\n",
       " 251263443283993162038968266093410015259,\n",
       " 108863003319109490105301954974994962609,\n",
       " 120259538107168560546004230169145309572,\n",
       " 248923301836046559943424202620957811991,\n",
       " 152746288297545385236998257316467458115]"
      ]
     },
     "execution_count": 2,
     "metadata": {},
     "output_type": "execute_result"
    }
   ],
   "source": [
    "# Блочный шифр Кузнечик выполняет 10 раундов шифрования и для каждого раунда генерирует раундовый ключ.\n",
    "# Раундовые ключи генерируются при инициализации объекта и их можно \"подглядеть\" в переменной self.round_keys\n",
    "\n",
    "cricket.round_keys"
   ]
  },
  {
   "cell_type": "code",
   "execution_count": 3,
   "id": "3a01c255",
   "metadata": {},
   "outputs": [
    {
     "name": "stdout",
     "output_type": "stream",
     "text": [
      "16\n",
      "b'\"\\x1f\\xf2F3G\\x92vS\\x89\\xe7Ir\\xef\\xa32'\n",
      "b'qB!5pZ@7#tC2*dXe'\n",
      "Assert: [OK]\n"
     ]
    }
   ],
   "source": [
    "# Случайная строка для демонстрации работы класса\n",
    "string = \"qB!5pZ@7#tC2*dXe\".encode()\n",
    "\n",
    "# Длинная строки 16 байт - 128 бит\n",
    "print(len(string))\n",
    "\n",
    "# Метод encrypt принимает данные в виде целочисленных значений\n",
    "string_int = int.from_bytes(string, byteorder=\"big\")\n",
    "encrypted = cricket.encrypt(string_int)\n",
    "encrypted_bytes = int.to_bytes(encrypted, 16, byteorder=\"big\")\n",
    "\n",
    "# Зашифрованные текст\n",
    "print(encrypted_bytes)\n",
    "\n",
    "# Расшифровываем обратно\n",
    "decrypted = cricket.decrypt(encrypted)\n",
    "decrypted_bytes = int.to_bytes(decrypted, 16, byteorder=\"big\")\n",
    "print(decrypted_bytes)\n",
    "\n",
    "# Проверка на правильность \n",
    "assert decrypted_bytes == string\n",
    "\n",
    "print(\"Assert: [OK]\")"
   ]
  },
  {
   "cell_type": "markdown",
   "id": "f4f06a68",
   "metadata": {},
   "source": [
    "### Часть 4.2 Демонстрация работы режимов шифрования"
   ]
  },
  {
   "cell_type": "markdown",
   "id": "9657bea9",
   "metadata": {},
   "source": [
    "### 4.2.1 Режим простой замены"
   ]
  },
  {
   "cell_type": "code",
   "execution_count": 4,
   "id": "024671fe",
   "metadata": {},
   "outputs": [
    {
     "name": "stdout",
     "output_type": "stream",
     "text": [
      "total 828\r\n",
      "-rwxrwxr-x 1 evgeny evgeny  25651 Mar 27 14:17 cricket.py\r\n",
      "-rw-rw-r-- 1 evgeny evgeny  35940 Mar 27 15:15 demo.ipynb\r\n",
      "drwxrwxr-x 2 evgeny evgeny   4096 Mar 27 14:28 __pycache__\r\n",
      "-rw-rw-r-- 1 evgeny evgeny      0 Mar 24 20:50 Readme.md\r\n",
      "-rw-rw-r-- 1 evgeny evgeny 754168 Mar 24 23:21 sharaev_evgeny_report_pr_2.pdf\r\n",
      "-rw-rw-r-- 1 evgeny evgeny    671 Mar 27 14:22 test_part1.txt\r\n",
      "-rw-rw-r-- 1 evgeny evgeny    660 Mar 27 14:22 test_part2.txt\r\n",
      "-rw-rw-r-- 1 evgeny evgeny    629 Mar 27 14:22 test_part3.txt\r\n",
      "-rw-rw-r-- 1 evgeny evgeny    655 Mar 27 14:22 test_part4.txt\r\n",
      "-rw-rw-r-- 1 evgeny evgeny    683 Mar 27 14:22 test_part5.txt\r\n"
     ]
    }
   ],
   "source": [
    "# Выведем на консоль все файлы текущей директории\n",
    "# Вы видите 5 тестовых файлов с разными отрвыками знаменитой поэмы\n",
    "!ls -l"
   ]
  },
  {
   "cell_type": "code",
   "execution_count": 5,
   "id": "f5fdd14a",
   "metadata": {},
   "outputs": [],
   "source": [
    "# Запускаем зашифрование файла test_part1.txt в режиме простой замены\n",
    "!./cricket.py --encrypt --dummy \"test_part1.txt\" \"8899aabbccddeeff0011223344556677fedcba98765432100123456789abcdef\""
   ]
  },
  {
   "cell_type": "code",
   "execution_count": 6,
   "id": "13563866",
   "metadata": {},
   "outputs": [
    {
     "name": "stdout",
     "output_type": "stream",
     "text": [
      "total 832\r\n",
      "-rwxrwxr-x 1 evgeny evgeny  25651 Mar 27 14:17 cricket.py\r\n",
      "-rw-rw-r-- 1 evgeny evgeny  35940 Mar 27 15:15 demo.ipynb\r\n",
      "drwxrwxr-x 2 evgeny evgeny   4096 Mar 27 14:28 __pycache__\r\n",
      "-rw-rw-r-- 1 evgeny evgeny      0 Mar 24 20:50 Readme.md\r\n",
      "-rw-rw-r-- 1 evgeny evgeny 754168 Mar 24 23:21 sharaev_evgeny_report_pr_2.pdf\r\n",
      "-rw-rw-r-- 1 evgeny evgeny    671 Mar 27 14:22 test_part1.txt\r\n",
      "-rw-rw-r-- 1 evgeny evgeny    672 Mar 27 15:15 test_part1.txt.cricket\r\n",
      "-rw-rw-r-- 1 evgeny evgeny    660 Mar 27 14:22 test_part2.txt\r\n",
      "-rw-rw-r-- 1 evgeny evgeny    629 Mar 27 14:22 test_part3.txt\r\n",
      "-rw-rw-r-- 1 evgeny evgeny    655 Mar 27 14:22 test_part4.txt\r\n",
      "-rw-rw-r-- 1 evgeny evgeny    683 Mar 27 14:22 test_part5.txt\r\n"
     ]
    }
   ],
   "source": [
    "# Видим что появился файл test_part1.txt.cricket - результат работы\n",
    "!ls -l"
   ]
  },
  {
   "cell_type": "code",
   "execution_count": 7,
   "id": "a57e9b66",
   "metadata": {},
   "outputs": [
    {
     "name": "stdout",
     "output_type": "stream",
     "text": [
      "<U�G�4ʹ��vHW[L�Ϗ��\u000e����\u0004C��bx��/_%\u001b\u0001-��k��M��E��Br^~\u001a���~o�>�{c\u001d",
      "l3:0��-r��G�\"p��K6\u0015{f\r\n",
      "h�[���3�T����<a��0\u0004��`'�BYܡ��\u0015&��Y������\u001c",
      "U�t\u0013i\u0016�nQ\u0001>p,E\\�/�i�F���H�z\u001b�����͢-����\u00053�ؔ\u0002�h\u0001\u001e",
      "\u0012��d��!\u0001\u0015�1�\u0007�ԃ9\u001f���\r\n",
      "��\f",
      "���\u0014�[3g(�\u0006=Z���7Ͻ�\u0013�\u0006��b�+E�M� ���H�\u000b",
      "fͯȍ>�\u0007�\u0003�\u0011 ��\"��i~ec��m�\u000b",
      "B��\u000f(Ix\u0001�wO��K��6w^O\u001e",
      "wq�\u001c",
      "������xq�\u001b���0\u001c",
      "�K�De�0��\u001a���Va@�wF�K�s�d��Ř*qL\"��xx���Z�Q=�[C�\u0017\u0003X�'�\f",
      "�\r",
      "J,�W�q���<T못]�7lR(���\u0016eo|�Km��zᠱ<�p��i\b\u000f�\u001f����S�jؿ����9}$��\u0014����>�x\u0000����턫�\u001d",
      "[�7:�(uu��\b�e\u000b",
      "H;���\u000e��nemU���m\u0005���h\u0014��\u0004���\f",
      "��\bn\u0010�Q*��Y�T\u0010�\u0015�m��x��!�r\u0011w���0)Gܺ�K�\u0014�F�&�\u0004\u001fl\u0006K?�4�K�\u001f����U\r\n",
      "�\f",
      "��D~q\u0015���P���Bҝ�\u001b�\u000b",
      "�����\u0017۽\u0003sE]��\u0013��\u0019Y��M7�\t�����gS�ə1��\u0010\u0004���\u000f8o�K�24'ȅ>�L��J@�5�\u0012��)�c"
     ]
    }
   ],
   "source": [
    "# Попробуем прочитать зашифрованный файл\n",
    "!cat test_part1.txt.cricket"
   ]
  },
  {
   "cell_type": "code",
   "execution_count": 8,
   "id": "f9c858ee",
   "metadata": {},
   "outputs": [],
   "source": [
    "# Расшифруем файл в режиме простой замены\n",
    "!./cricket.py --decrypt --dummy \"test_part1.txt.cricket\" \"8899aabbccddeeff0011223344556677fedcba98765432100123456789abcdef\""
   ]
  },
  {
   "cell_type": "code",
   "execution_count": 9,
   "id": "b05d8d7d",
   "metadata": {},
   "outputs": [
    {
     "name": "stdout",
     "output_type": "stream",
     "text": [
      "total 836\r\n",
      "-rwxrwxr-x 1 evgeny evgeny  25651 Mar 27 14:17 cricket.py\r\n",
      "-rw-rw-r-- 1 evgeny evgeny  35940 Mar 27 15:15 demo.ipynb\r\n",
      "drwxrwxr-x 2 evgeny evgeny   4096 Mar 27 14:28 __pycache__\r\n",
      "-rw-rw-r-- 1 evgeny evgeny      0 Mar 24 20:50 Readme.md\r\n",
      "-rw-rw-r-- 1 evgeny evgeny 754168 Mar 24 23:21 sharaev_evgeny_report_pr_2.pdf\r\n",
      "-rw-rw-r-- 1 evgeny evgeny    671 Mar 27 14:22 test_part1.txt\r\n",
      "-rw-rw-r-- 1 evgeny evgeny    672 Mar 27 15:15 test_part1.txt.cricket\r\n",
      "-rw-rw-r-- 1 evgeny evgeny    671 Mar 27 15:15 test_part1.txt.decrypted\r\n",
      "-rw-rw-r-- 1 evgeny evgeny    660 Mar 27 14:22 test_part2.txt\r\n",
      "-rw-rw-r-- 1 evgeny evgeny    629 Mar 27 14:22 test_part3.txt\r\n",
      "-rw-rw-r-- 1 evgeny evgeny    655 Mar 27 14:22 test_part4.txt\r\n",
      "-rw-rw-r-- 1 evgeny evgeny    683 Mar 27 14:22 test_part5.txt\r\n"
     ]
    }
   ],
   "source": [
    "# Видим что появился файл test_part1.txt.decrypted - результат работы\n",
    "!ls -l"
   ]
  },
  {
   "cell_type": "code",
   "execution_count": 10,
   "id": "f8a1d0ab",
   "metadata": {},
   "outputs": [
    {
     "name": "stdout",
     "output_type": "stream",
     "text": [
      "I\r\n",
      "«Мой дядя самых честных правил,\r\n",
      "Когда не в шутку занемог,\r\n",
      "Он уважать себя заставил\r\n",
      "И лучше выдумать не мог.\r\n",
      "Его пример другим наука;\r\n",
      "Но, боже мой, какая скука\r\n",
      "С больным сидеть и день и ночь,\r\n",
      "Не отходя ни шагу прочь!\r\n",
      "Какое низкое коварство\r\n",
      "Полуживого забавлять,\r\n",
      "Ему подушки поправлять,\r\n",
      "Печально подносить лекарство,\r\n",
      "Вздыхать и думать про себя:\r\n",
      "Когда же черт возьмет тебя!»"
     ]
    }
   ],
   "source": [
    "# Попробуем прочитать расшифрованный файл\n",
    "!cat test_part1.txt.decrypted"
   ]
  },
  {
   "cell_type": "markdown",
   "id": "52054f58",
   "metadata": {},
   "source": [
    "### 4.2.2 Режим простой замены с зацеплением"
   ]
  },
  {
   "cell_type": "code",
   "execution_count": 11,
   "id": "c44372d7",
   "metadata": {},
   "outputs": [],
   "source": [
    "!./cricket.py --encrypt --cbc_mode \"test_part2.txt\" \"8899aabbccddeeff0011223344556677fedcba98765432100123456789abcdef\""
   ]
  },
  {
   "cell_type": "code",
   "execution_count": 12,
   "id": "be071aa5",
   "metadata": {},
   "outputs": [
    {
     "name": "stdout",
     "output_type": "stream",
     "text": [
      "total 840\r\n",
      "-rwxrwxr-x 1 evgeny evgeny  25651 Mar 27 14:17 cricket.py\r\n",
      "-rw-rw-r-- 1 evgeny evgeny  35940 Mar 27 15:15 demo.ipynb\r\n",
      "drwxrwxr-x 2 evgeny evgeny   4096 Mar 27 14:28 __pycache__\r\n",
      "-rw-rw-r-- 1 evgeny evgeny      0 Mar 24 20:50 Readme.md\r\n",
      "-rw-rw-r-- 1 evgeny evgeny 754168 Mar 24 23:21 sharaev_evgeny_report_pr_2.pdf\r\n",
      "-rw-rw-r-- 1 evgeny evgeny    671 Mar 27 14:22 test_part1.txt\r\n",
      "-rw-rw-r-- 1 evgeny evgeny    672 Mar 27 15:15 test_part1.txt.cricket\r\n",
      "-rw-rw-r-- 1 evgeny evgeny    671 Mar 27 15:15 test_part1.txt.decrypted\r\n",
      "-rw-rw-r-- 1 evgeny evgeny    660 Mar 27 14:22 test_part2.txt\r\n",
      "-rw-rw-r-- 1 evgeny evgeny    704 Mar 27 15:15 test_part2.txt.cricket\r\n",
      "-rw-rw-r-- 1 evgeny evgeny    629 Mar 27 14:22 test_part3.txt\r\n",
      "-rw-rw-r-- 1 evgeny evgeny    655 Mar 27 14:22 test_part4.txt\r\n",
      "-rw-rw-r-- 1 evgeny evgeny    683 Mar 27 14:22 test_part5.txt\r\n"
     ]
    }
   ],
   "source": [
    "# Видим что появился файл test_part2.txt.cricket - результат работы\n",
    "!ls -l"
   ]
  },
  {
   "cell_type": "code",
   "execution_count": 13,
   "id": "5c16ab63",
   "metadata": {},
   "outputs": [
    {
     "name": "stdout",
     "output_type": "stream",
     "text": [
      "�h\u0013u���\u00119?-A�\u0018�>��~�\u0000����~�����\u001c",
      "���N\u000b",
      "VK��gn�Q\u0002��~�;|߹/���v+5�\u001a��sA\r\n",
      "c^K�nD����L�Zc��޿~{�\t-�eÚ��hE�t3�,���,���\u0014�Q@��о/京\u0014�T)\"�#���N0�\u001a\u0003�-0�#����.��\r",
      "|�[�>5�Q���V{ݝ]R��,y1v\u000b",
      "����GI\\�����hA����b���f\u00013�\u000eh�{WCyۢSpd��(h��f*i�fE[��\u0018`>sq�=-HBE@ey����TA���\u0003\u001b�C2\u0015\u0013\r",
      "�\u0001�o�:�dkJ�ܠ����\u0018�\t5���@\u001d",
      "*ںJ}\u001e",
      "M�$\u0011e,��$/\u0000㖗\u0016S�\u0012�����X`�HA��oT��\f",
      "�\u001bfW�\\)�\u001e",
      "PV�:�\u00151�\u0000\u000b",
      "0\u001c",
      "A\u0000�ي�,�ĻN���\u000e��\u000b",
      "�E/^Ku\f",
      "31-�f0�:�vw˧�\u0000\u001e",
      "�h \u0015�j����'O�,JO�*F���(�_2P�3��\u001b�A�\u0014� Œ->\u0019��tS`\u0019���H�\u0015K�F��i�\u00040\tv1�{5\u0014M����L\u000f�\u001a�/WqF�\u0018�\u0000*���!\u0017��QJ��\r",
      "6-�\u001e",
      "��lմ<\u0012\u001d",
      "�:.!\u0011�֫�Ձ��I�Z'aO�z���'��$,\\IA�B\u0013��s\u000b",
      "q@� Wk�{Ȁ\t6�=@\u0019��Y\u0017uPJ�wycݤk[��~`�|`y��8���p�b�rچߚ\u0019ʧC��\u0007h�\u001d",
      "H�\u001e",
      "�b�e� � \u000e�\u0003�k;>�o@���`��=��gH��9��T%�9y\u0001\u001a�F!���هr8\u001b[Ϩ<.\u0003bƼ\tnҁ����vY��}"
     ]
    }
   ],
   "source": [
    "# Попробуем прочитать зашифрованный файл\n",
    "!cat test_part2.txt.cricket"
   ]
  },
  {
   "cell_type": "code",
   "execution_count": 14,
   "id": "c984607f",
   "metadata": {},
   "outputs": [],
   "source": [
    "!./cricket.py --decrypt --cbc_mode \"test_part2.txt.cricket\" \"8899aabbccddeeff0011223344556677fedcba98765432100123456789abcdef\""
   ]
  },
  {
   "cell_type": "code",
   "execution_count": 15,
   "id": "85c9abc7",
   "metadata": {},
   "outputs": [
    {
     "name": "stdout",
     "output_type": "stream",
     "text": [
      "II\r\n",
      "Так думал молодой повеса,\r\n",
      "Летя в пыли на почтовых,\r\n",
      "Всевышней волею Зевеса\r\n",
      "Наследник всех своих родных.\r\n",
      "Друзья Людмилы и Руслана!\r\n",
      "С героем моего романа\r\n",
      "Без предисловий, сей же час\r\n",
      "Позвольте познакомить вас:\r\n",
      "Онегин, добрый мой приятель,\r\n",
      "Родился на брегах Невы,\r\n",
      "Где, может быть, родились вы\r\n",
      "Или блистали, мой читатель;\r\n",
      "Там некогда гулял и я:\r\n",
      "Но вреден север для меня 1."
     ]
    }
   ],
   "source": [
    "# Попробуем прочитать расшифрованный файл\n",
    "!cat test_part2.txt.decrypted"
   ]
  },
  {
   "cell_type": "markdown",
   "id": "93669e1c",
   "metadata": {},
   "source": [
    "### 4.2.3 Режим гаммирования"
   ]
  },
  {
   "cell_type": "code",
   "execution_count": 16,
   "id": "5509f0bf",
   "metadata": {},
   "outputs": [],
   "source": [
    "!./cricket.py --encrypt --ctr_mode \"test_part3.txt\" \"8899aabbccddeeff0011223344556677fedcba98765432100123456789abcdef\""
   ]
  },
  {
   "cell_type": "code",
   "execution_count": 17,
   "id": "dc8e32c4",
   "metadata": {},
   "outputs": [
    {
     "name": "stdout",
     "output_type": "stream",
     "text": [
      "total 848\r\n",
      "-rwxrwxr-x 1 evgeny evgeny  25651 Mar 27 14:17 cricket.py\r\n",
      "-rw-rw-r-- 1 evgeny evgeny  35940 Mar 27 15:15 demo.ipynb\r\n",
      "drwxrwxr-x 2 evgeny evgeny   4096 Mar 27 14:28 __pycache__\r\n",
      "-rw-rw-r-- 1 evgeny evgeny      0 Mar 24 20:50 Readme.md\r\n",
      "-rw-rw-r-- 1 evgeny evgeny 754168 Mar 24 23:21 sharaev_evgeny_report_pr_2.pdf\r\n",
      "-rw-rw-r-- 1 evgeny evgeny    671 Mar 27 14:22 test_part1.txt\r\n",
      "-rw-rw-r-- 1 evgeny evgeny    672 Mar 27 15:15 test_part1.txt.cricket\r\n",
      "-rw-rw-r-- 1 evgeny evgeny    671 Mar 27 15:15 test_part1.txt.decrypted\r\n",
      "-rw-rw-r-- 1 evgeny evgeny    660 Mar 27 14:22 test_part2.txt\r\n",
      "-rw-rw-r-- 1 evgeny evgeny    704 Mar 27 15:15 test_part2.txt.cricket\r\n",
      "-rw-rw-r-- 1 evgeny evgeny    660 Mar 27 15:15 test_part2.txt.decrypted\r\n",
      "-rw-rw-r-- 1 evgeny evgeny    629 Mar 27 14:22 test_part3.txt\r\n",
      "-rw-rw-r-- 1 evgeny evgeny    645 Mar 27 15:15 test_part3.txt.cricket\r\n",
      "-rw-rw-r-- 1 evgeny evgeny    655 Mar 27 14:22 test_part4.txt\r\n",
      "-rw-rw-r-- 1 evgeny evgeny    683 Mar 27 14:22 test_part5.txt\r\n"
     ]
    }
   ],
   "source": [
    "# Видим что появился файл test_part3.txt.cricket - результат работы\n",
    "!ls -l"
   ]
  },
  {
   "cell_type": "code",
   "execution_count": 18,
   "id": "3bd3b0c2",
   "metadata": {},
   "outputs": [
    {
     "name": "stdout",
     "output_type": "stream",
     "text": [
      "\u001b(!t�\u0016\u0013��X���Q\u001e",
      "3rݡ\u0007Q�\u001e",
      "HY?N�\r\n",
      "\t#D��m���ԕ�8�硙=�Q�\u0015��$oa�=�S�\u0006 ���\u0010��\u0014b�x�J�7���<!\r",
      "�]U=���mY��yg�̘\r\n",
      "�\u0017�Ի�:�nѵ]���3��M��Mc�W\f",
      "�A7��R\"'Ç��f\u0001?��\u0018;�ٮ�Q\u0011���&�\u0019_�/\u001c",
      "��c���\u001b�p|�X�e\u001c",
      "a�)\u0006�\u001a��\"k\u0013�>\u0006���j���?r��Y�ڻO~~�\u001e",
      "񶊡\u0004F��8\u0001���&�v6(_�<�R䇒�\r\n",
      "�R��\u000f�O�lʏfԏ��\u0017�@\f",
      "�x|d~!�@�\u00053����\u0016���\u0019���W�;u�`�Ta�V�&�\u00007h\u000f�S�2�iE�z�p�\"�����wT�\u000f-�^��N�\u0006d���F�7a�UG�t�/�?�\u001d",
      "E`;@]�H+�zK�\"_�:��U$H�ߊ��\u0012C؜\u0007\r\n",
      "N&�n\u0006\u0001���� _H*p\u0012\u0006|Ǫ��L2��Mb�٘H�^��59GrGԬ�� b�Oϫ����\u0013�\u0013�i�Qb�*_=�G�\bF2��C����b鷹��du�m�.��)��u�K�\u001a�6�΅;�x=\r",
      "Ҧ\t��t5�wb�q�sP+�q�?�H������#�\u000et�\u0016�j\u0016\u0012���o�U\u0000��\u0001�aO\"S\u0019cx%��[\u001b+y;�ŷ\u000b",
      "r�;�]։X���*@��gWf<\u0007�ڽ{�ǄƮ��)��\u0016ݯ�JsX|8���O\u0003q������>ݑ콨bϩO2\u000f�\u0004^O~��5"
     ]
    }
   ],
   "source": [
    "# Попробуем прочитать зашифрованный файл\n",
    "!cat test_part3.txt.cricket"
   ]
  },
  {
   "cell_type": "code",
   "execution_count": 19,
   "id": "2705ac40",
   "metadata": {},
   "outputs": [],
   "source": [
    "!./cricket.py --decrypt --ctr_mode \"test_part3.txt.cricket\" \"8899aabbccddeeff0011223344556677fedcba98765432100123456789abcdef\""
   ]
  },
  {
   "cell_type": "code",
   "execution_count": 20,
   "id": "e07165b8",
   "metadata": {},
   "outputs": [
    {
     "name": "stdout",
     "output_type": "stream",
     "text": [
      "III\r\n",
      "Служив отлично благородно,\r\n",
      "Долгами жил его отец,\r\n",
      "Давал три бала ежегодно\r\n",
      "И промотался наконец.\r\n",
      "Судьба Евгения хранила:\r\n",
      "Сперва Madame за ним ходила,\r\n",
      "Потом Monsieur ее сменил.\r\n",
      "Ребенок был резов, но мил.\r\n",
      "Monsieur l'Abbé, француз убогой,\r\n",
      "Чтоб не измучилось дитя,\r\n",
      "Учил его всему шутя,\r\n",
      "Не докучал моралью строгой,\r\n",
      "Слегка за шалости бранил\r\n",
      "И в Летний сад гулять водил."
     ]
    }
   ],
   "source": [
    "# Попробуем прочитать зашифрованный файл\n",
    "!cat test_part3.txt.decrypted"
   ]
  },
  {
   "cell_type": "markdown",
   "id": "4eb4432a",
   "metadata": {},
   "source": [
    "### 4.2.4 Режим гаммирования с обратной связью по выходу"
   ]
  },
  {
   "cell_type": "code",
   "execution_count": 21,
   "id": "ca2240c1",
   "metadata": {},
   "outputs": [],
   "source": [
    "!./cricket.py --encrypt --ofb_mode \"test_part4.txt\" \"8899aabbccddeeff0011223344556677fedcba98765432100123456789abcdef\""
   ]
  },
  {
   "cell_type": "code",
   "execution_count": 22,
   "id": "a74e3c01",
   "metadata": {},
   "outputs": [
    {
     "name": "stdout",
     "output_type": "stream",
     "text": [
      "total 856\r\n",
      "-rwxrwxr-x 1 evgeny evgeny  25651 Mar 27 14:17 cricket.py\r\n",
      "-rw-rw-r-- 1 evgeny evgeny  35940 Mar 27 15:15 demo.ipynb\r\n",
      "drwxrwxr-x 2 evgeny evgeny   4096 Mar 27 14:28 __pycache__\r\n",
      "-rw-rw-r-- 1 evgeny evgeny      0 Mar 24 20:50 Readme.md\r\n",
      "-rw-rw-r-- 1 evgeny evgeny 754168 Mar 24 23:21 sharaev_evgeny_report_pr_2.pdf\r\n",
      "-rw-rw-r-- 1 evgeny evgeny    671 Mar 27 14:22 test_part1.txt\r\n",
      "-rw-rw-r-- 1 evgeny evgeny    672 Mar 27 15:15 test_part1.txt.cricket\r\n",
      "-rw-rw-r-- 1 evgeny evgeny    671 Mar 27 15:15 test_part1.txt.decrypted\r\n",
      "-rw-rw-r-- 1 evgeny evgeny    660 Mar 27 14:22 test_part2.txt\r\n",
      "-rw-rw-r-- 1 evgeny evgeny    704 Mar 27 15:15 test_part2.txt.cricket\r\n",
      "-rw-rw-r-- 1 evgeny evgeny    660 Mar 27 15:15 test_part2.txt.decrypted\r\n",
      "-rw-rw-r-- 1 evgeny evgeny    629 Mar 27 14:22 test_part3.txt\r\n",
      "-rw-rw-r-- 1 evgeny evgeny    645 Mar 27 15:15 test_part3.txt.cricket\r\n",
      "-rw-rw-r-- 1 evgeny evgeny    629 Mar 27 15:15 test_part3.txt.decrypted\r\n",
      "-rw-rw-r-- 1 evgeny evgeny    655 Mar 27 14:22 test_part4.txt\r\n",
      "-rw-rw-r-- 1 evgeny evgeny    695 Mar 27 15:15 test_part4.txt.cricket\r\n",
      "-rw-rw-r-- 1 evgeny evgeny    683 Mar 27 14:22 test_part5.txt\r\n"
     ]
    }
   ],
   "source": [
    "# Видим что появился файл test_part4.txt.cricket - результат работы\n",
    "!ls -l"
   ]
  },
  {
   "cell_type": "code",
   "execution_count": 23,
   "id": "8f9672a9",
   "metadata": {},
   "outputs": [
    {
     "name": "stdout",
     "output_type": "stream",
     "text": [
      "�c\u001d",
      "c\u001al��D��B��\u0007\u001d",
      "\\�\u0006ү{������S��u�\u0019\u0010j#��\u0005��_����\u0004��v����R\r\n",
      "G'�\u001b4���;[QI�ј�Z� a\u0015�8����\u001c",
      "�7<^��8\u0016�H�p����@�H\t\u000e��5D[ۦ~�y{X�U�\\4\u000b",
      "�I\u000e\r",
      "����,dJ��KH�\u0003\u0016��Pjg��\u000b",
      ".t\u0010�4{1�X�BN�=���\u000f\u0019��ӂ�_�\u001a��\u001f�s\"#�\têr��\u0001Vx&�/��$N��˘YٍX�hS��+��\u001c",
      "�=���XfB\"�ƽ�g]�k�\u0016L\r\n",
      "�[?��cS\u0014ޅ�:\u0000\u0011��������\u001e",
      "�'\u0000�\u000f���6��\u000b",
      "%�5�hs���O:\u0001+����v���\u001e",
      "��\u0016�\u0005�-���\u0003\u001c",
      "�\u0007Q������\u0019ޣ6�؅\u0005I$]Q�\u0005A���N�����W�<H�\r",
      "�\u0019\u0011L�\u0013�eՒ7ڊ�/�۵VFFQ��ɭG���\u0011Ǐ�\f",
      "�_�S�R��s��2�*���R\u0014a����à�'��ny}NN��J�&����B�5�F�ó=ls.#\u0002��̄ Ѱ>��@l����3_L<lZ=��)��L�¨�CS?I\u0005�i6�\u001a\r",
      "\u001e",
      "����\r",
      "��v\u000f\"'\u000e��O(�\u0003I��k\u001b�-\u0014����F�� F�=7�)?�h\u0001��VZ��܂��� ��,\u0003e8�q��6OT/�\u0007�\u0015�����\u001b.\u0011��\u001e",
      "KХ�P��\u0014���/&�o��ϓ�ǅ��%B�]��?�v��<�#��2\u0003v�NWU����7?��wO(�r�\u0010y�O\u001d",
      "fe]c5svg���:�7�!��H�b\u0010\u0016��\f",
      "Nj$֟�\u0019o�AC�aq��΅P�\u0002\u0011"
     ]
    }
   ],
   "source": [
    "# Попробуем прочитать зашифрованный файл\n",
    "!cat test_part4.txt.cricket"
   ]
  },
  {
   "cell_type": "code",
   "execution_count": 24,
   "id": "12891c7e",
   "metadata": {},
   "outputs": [],
   "source": [
    "!./cricket.py --decrypt --ofb_mode \"test_part4.txt.cricket\" \"8899aabbccddeeff0011223344556677fedcba98765432100123456789abcdef\""
   ]
  },
  {
   "cell_type": "code",
   "execution_count": 25,
   "id": "b256d87f",
   "metadata": {},
   "outputs": [
    {
     "name": "stdout",
     "output_type": "stream",
     "text": [
      "IV\r\n",
      "Когда же юности мятежной\r\n",
      "Пришла Евгению пора,\r\n",
      "Пора надежд и грусти нежной,\r\n",
      "Monsieur прогнали со двора.\r\n",
      "Вот мой Онегин на свободе;\r\n",
      "Острижен по последней моде,\r\n",
      "Как dandy 2 лондонский одет —\r\n",
      "И наконец увидел свет.\r\n",
      "Он по-французски совершенно\r\n",
      "Мог изъясняться и писал;\r\n",
      "Легко мазурку танцевал\r\n",
      "И кланялся непринужденно;\r\n",
      "Чего ж вам больше? Свет решил,\r\n",
      "Что он умен и очень мил."
     ]
    }
   ],
   "source": [
    "# Попробуем прочитать зашифрованный файл\n",
    "!cat test_part4.txt.decrypted"
   ]
  },
  {
   "cell_type": "markdown",
   "id": "9cf5271a",
   "metadata": {},
   "source": [
    "### 4.2.5 Режим гаммирования с обратной связью по шифртексту"
   ]
  },
  {
   "cell_type": "code",
   "execution_count": 26,
   "id": "393da517",
   "metadata": {},
   "outputs": [],
   "source": [
    "!./cricket.py --encrypt --cfb_mode \"test_part5.txt\" \"8899aabbccddeeff0011223344556677fedcba98765432100123456789abcdef\""
   ]
  },
  {
   "cell_type": "code",
   "execution_count": 27,
   "id": "1e64468f",
   "metadata": {},
   "outputs": [
    {
     "name": "stdout",
     "output_type": "stream",
     "text": [
      "total 864\r\n",
      "-rwxrwxr-x 1 evgeny evgeny  25651 Mar 27 14:17 cricket.py\r\n",
      "-rw-rw-r-- 1 evgeny evgeny  35940 Mar 27 15:15 demo.ipynb\r\n",
      "drwxrwxr-x 2 evgeny evgeny   4096 Mar 27 14:28 __pycache__\r\n",
      "-rw-rw-r-- 1 evgeny evgeny      0 Mar 24 20:50 Readme.md\r\n",
      "-rw-rw-r-- 1 evgeny evgeny 754168 Mar 24 23:21 sharaev_evgeny_report_pr_2.pdf\r\n",
      "-rw-rw-r-- 1 evgeny evgeny    671 Mar 27 14:22 test_part1.txt\r\n",
      "-rw-rw-r-- 1 evgeny evgeny    672 Mar 27 15:15 test_part1.txt.cricket\r\n",
      "-rw-rw-r-- 1 evgeny evgeny    671 Mar 27 15:15 test_part1.txt.decrypted\r\n",
      "-rw-rw-r-- 1 evgeny evgeny    660 Mar 27 14:22 test_part2.txt\r\n",
      "-rw-rw-r-- 1 evgeny evgeny    704 Mar 27 15:15 test_part2.txt.cricket\r\n",
      "-rw-rw-r-- 1 evgeny evgeny    660 Mar 27 15:15 test_part2.txt.decrypted\r\n",
      "-rw-rw-r-- 1 evgeny evgeny    629 Mar 27 14:22 test_part3.txt\r\n",
      "-rw-rw-r-- 1 evgeny evgeny    645 Mar 27 15:15 test_part3.txt.cricket\r\n",
      "-rw-rw-r-- 1 evgeny evgeny    629 Mar 27 15:15 test_part3.txt.decrypted\r\n",
      "-rw-rw-r-- 1 evgeny evgeny    655 Mar 27 14:22 test_part4.txt\r\n",
      "-rw-rw-r-- 1 evgeny evgeny    695 Mar 27 15:15 test_part4.txt.cricket\r\n",
      "-rw-rw-r-- 1 evgeny evgeny    655 Mar 27 15:15 test_part4.txt.decrypted\r\n",
      "-rw-rw-r-- 1 evgeny evgeny    683 Mar 27 14:22 test_part5.txt\r\n",
      "-rw-rw-r-- 1 evgeny evgeny    720 Mar 27 15:15 test_part5.txt.cricket\r\n"
     ]
    }
   ],
   "source": [
    "# Видим что появился файл test_part5.txt.cricket - результат работы\n",
    "!ls -l"
   ]
  },
  {
   "cell_type": "code",
   "execution_count": 28,
   "id": "54d74393",
   "metadata": {},
   "outputs": [],
   "source": [
    "!./cricket.py --decrypt --cfb_mode \"test_part5.txt.cricket\" \"8899aabbccddeeff0011223344556677fedcba98765432100123456789abcdef\""
   ]
  },
  {
   "cell_type": "code",
   "execution_count": 29,
   "id": "a7a3475d",
   "metadata": {},
   "outputs": [
    {
     "name": "stdout",
     "output_type": "stream",
     "text": [
      "V\r\n",
      "Мы все учились понемногу\r\n",
      "Чему-нибудь и как-нибудь,\r\n",
      "Так воспитаньем, слава богу,\r\n",
      "У нас немудрено блеснуть.\r\n",
      "Онегин был по мненью многих\r\n",
      "(Судей решительных и строгих)\r\n",
      "Ученый малый, но педант:\r\n",
      "Имел он счастливый талант\r\n",
      "Без принужденья в разговоре\r\n",
      "Коснуться до всего слегка,\r\n",
      "С ученым видом знатока\r\n",
      "Хранить молчанье в важном споре\r\n",
      "И возбуждать улыбку дам\r\n",
      "Огнем нежданных эпиграмм."
     ]
    }
   ],
   "source": [
    "# Попробуем прочитать зашифрованный файл\n",
    "!cat test_part5.txt.decrypted"
   ]
  },
  {
   "cell_type": "markdown",
   "id": "9e75f9b4",
   "metadata": {},
   "source": [
    "### Спасибо за внимание и да пребудет с вами сила!\n",
    "\n",
    "<i>С уважением, Шараев Евгений!</i>"
   ]
  }
 ],
 "metadata": {
  "kernelspec": {
   "display_name": "Python 3 (ipykernel)",
   "language": "python",
   "name": "python3"
  },
  "language_info": {
   "codemirror_mode": {
    "name": "ipython",
    "version": 3
   },
   "file_extension": ".py",
   "mimetype": "text/x-python",
   "name": "python",
   "nbconvert_exporter": "python",
   "pygments_lexer": "ipython3",
   "version": "3.10.12"
  }
 },
 "nbformat": 4,
 "nbformat_minor": 5
}
