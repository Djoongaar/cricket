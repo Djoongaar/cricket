{
 "cells": [
  {
   "cell_type": "markdown",
   "id": "b3277f8b",
   "metadata": {},
   "source": [
    "## Приложение А\n",
    "\n",
    "### Демонстрация"
   ]
  },
  {
   "cell_type": "markdown",
   "id": "68ec406a",
   "metadata": {},
   "source": [
    "### Часть 4.1 Демонстрация работы блочного шифра Кузнечик"
   ]
  },
  {
   "cell_type": "markdown",
   "id": "b59c5650",
   "metadata": {},
   "source": [
    "1) Чтобы запустить код выполните следующие действия:\n",
    "\n",
    "\n",
    "```evgeny@hp:~/cricket$ python3 cricket.py <command> <mode> <path/to/file> <key>``` , где:\n",
    "\n",
    "`<command>` - <i>--encrypt</i> - чтобы зашифровать файл, <i>--decrypt</i> - чтобы расшифровать\n",
    "\n",
    "`<mode>` - режим шифрования / расшифрования (--dummy / --counter)\n",
    "\n",
    "`<path/to/file>` - путь к файлу. При зашифровании имя зашифрованного файла будет содержать дополнительное расширение `.enc`. При расшифровании - данное расширение, если оно имеется, будет удалено \n",
    "\n",
    "`<key>` - 256-битный ключ в виде строки"
   ]
  },
  {
   "cell_type": "code",
   "execution_count": 1,
   "id": "f96ff115",
   "metadata": {},
   "outputs": [
    {
     "data": {
      "text/plain": [
       "<cricket.Cricket at 0x7f94cb90b8d0>"
      ]
     },
     "execution_count": 1,
     "metadata": {},
     "output_type": "execute_result"
    }
   ],
   "source": [
    "# Демонстрация работы блочного шифра Кузнечик\n",
    "# импорт классов\n",
    "from cricket import Cricket\n",
    "\n",
    "# Создам объект класса Cricket и передам ему 256-битный ключ\n",
    "cricket = Cricket(\"8899aabbccddeeff0011223344556677fedcba98765432100123456789abcdef\")\n",
    "# Объект класса готов к работе\n",
    "cricket"
   ]
  },
  {
   "cell_type": "code",
   "execution_count": 2,
   "id": "0d7423c7",
   "metadata": {},
   "outputs": [
    {
     "data": {
      "text/plain": [
       "[181572891734806641530322838679085999735,\n",
       " 338770000845734292516042252062085074415,\n",
       " 291356820539020174378226036445198912580,\n",
       " 81442876851760348854807460057096125700,\n",
       " 116164101860579397447240808000140210604,\n",
       " 251263443283993162038968266093410015259,\n",
       " 108863003319109490105301954974994962609,\n",
       " 120259538107168560546004230169145309572,\n",
       " 248923301836046559943424202620957811991,\n",
       " 152746288297545385236998257316467458115]"
      ]
     },
     "execution_count": 2,
     "metadata": {},
     "output_type": "execute_result"
    }
   ],
   "source": [
    "# Блочный шифр Кузнечик выполняет 10 раундов шифрования и для каждого раунда генерирует раундовый ключ.\n",
    "# Раундовые ключи генерируются при инициализации объекта и их можно \"подглядеть\" в переменной self.round_keys\n",
    "\n",
    "cricket.round_keys"
   ]
  },
  {
   "cell_type": "code",
   "execution_count": 3,
   "id": "3a01c255",
   "metadata": {},
   "outputs": [
    {
     "name": "stdout",
     "output_type": "stream",
     "text": [
      "16\n",
      "b'\"\\x1f\\xf2F3G\\x92vS\\x89\\xe7Ir\\xef\\xa32'\n",
      "b'qB!5pZ@7#tC2*dXe'\n",
      "Assert: [OK]\n"
     ]
    }
   ],
   "source": [
    "# Случайная строка для демонстрации работы класса\n",
    "string = \"qB!5pZ@7#tC2*dXe\".encode()\n",
    "\n",
    "# Длинная строки 16 байт - 128 бит\n",
    "print(len(string))\n",
    "\n",
    "# Метод encrypt принимает данные в виде целочисленных значений\n",
    "string_int = int.from_bytes(string, byteorder=\"big\")\n",
    "encrypted = cricket.encrypt(string_int)\n",
    "encrypted_bytes = int.to_bytes(encrypted, 16, byteorder=\"big\")\n",
    "\n",
    "# Зашифрованные текст\n",
    "print(encrypted_bytes)\n",
    "\n",
    "# Расшифровываем обратно\n",
    "decrypted = cricket.decrypt(encrypted)\n",
    "decrypted_bytes = int.to_bytes(decrypted, 16, byteorder=\"big\")\n",
    "print(decrypted_bytes)\n",
    "\n",
    "# Проверка на правильность \n",
    "assert decrypted_bytes == string\n",
    "\n",
    "print(\"Assert: [OK]\")"
   ]
  },
  {
   "cell_type": "markdown",
   "id": "f4f06a68",
   "metadata": {},
   "source": [
    "### Часть 4.2 Демонстрация работы режимов шифрования"
   ]
  },
  {
   "cell_type": "markdown",
   "id": "9657bea9",
   "metadata": {},
   "source": [
    "### 4.2.1 Режим простой замены"
   ]
  },
  {
   "cell_type": "code",
   "execution_count": 4,
   "id": "024671fe",
   "metadata": {},
   "outputs": [
    {
     "name": "stdout",
     "output_type": "stream",
     "text": [
      "total 540\r\n",
      "-rwxr-xr-x 1 evgeny evgeny  25651 Apr  6 19:21 cricket.py\r\n",
      "-rw-r--r-- 1 evgeny evgeny  37686 Apr  6 20:04 demo.ipynb\r\n",
      "drwxr-xr-x 2 evgeny evgeny   4096 Apr  6 19:39 __pycache__\r\n",
      "-rw-r--r-- 1 evgeny evgeny 410450 Apr  6 19:21 report.pdf\r\n",
      "-rw-r--r-- 1 evgeny evgeny    671 Apr  6 19:21 test_part1.txt\r\n",
      "-rw-r--r-- 1 evgeny evgeny    660 Apr  6 19:21 test_part2.txt\r\n",
      "-rw-r--r-- 1 evgeny evgeny    629 Apr  6 19:21 test_part3.txt\r\n",
      "-rw-r--r-- 1 evgeny evgeny    655 Apr  6 19:21 test_part4.txt\r\n",
      "-rw-r--r-- 1 evgeny evgeny    683 Apr  6 19:21 test_part5.txt\r\n",
      "-rw-r--r-- 1 evgeny evgeny  41484 Apr  6 19:21 отчет.docx\r\n"
     ]
    }
   ],
   "source": [
    "# Выведем на консоль все файлы текущей директории\n",
    "# Вы видите 5 тестовых файлов с разными отрвыками знаменитой поэмы\n",
    "!ls -l"
   ]
  },
  {
   "cell_type": "code",
   "execution_count": 5,
   "id": "f5fdd14a",
   "metadata": {},
   "outputs": [],
   "source": [
    "# Запускаем зашифрование файла test_part1.txt в режиме простой замены\n",
    "!./cricket.py --encrypt --dummy \"test_part1.txt\" \"8899aabbccddeeff0011223344556677fedcba98765432100123456789abcdef\""
   ]
  },
  {
   "cell_type": "code",
   "execution_count": 6,
   "id": "13563866",
   "metadata": {},
   "outputs": [
    {
     "name": "stdout",
     "output_type": "stream",
     "text": [
      "total 544\r\n",
      "-rwxr-xr-x 1 evgeny evgeny  25651 Apr  6 19:21 cricket.py\r\n",
      "-rw-r--r-- 1 evgeny evgeny  37686 Apr  6 20:04 demo.ipynb\r\n",
      "drwxr-xr-x 2 evgeny evgeny   4096 Apr  6 19:39 __pycache__\r\n",
      "-rw-r--r-- 1 evgeny evgeny 410450 Apr  6 19:21 report.pdf\r\n",
      "-rw-r--r-- 1 evgeny evgeny    671 Apr  6 19:21 test_part1.txt\r\n",
      "-rw-r--r-- 1 evgeny evgeny    672 Apr  6 20:04 test_part1.txt.cricket\r\n",
      "-rw-r--r-- 1 evgeny evgeny    660 Apr  6 19:21 test_part2.txt\r\n",
      "-rw-r--r-- 1 evgeny evgeny    629 Apr  6 19:21 test_part3.txt\r\n",
      "-rw-r--r-- 1 evgeny evgeny    655 Apr  6 19:21 test_part4.txt\r\n",
      "-rw-r--r-- 1 evgeny evgeny    683 Apr  6 19:21 test_part5.txt\r\n",
      "-rw-r--r-- 1 evgeny evgeny  41484 Apr  6 19:21 отчет.docx\r\n"
     ]
    }
   ],
   "source": [
    "# Видим что появился файл test_part1.txt.cricket - результат работы\n",
    "!ls -l"
   ]
  },
  {
   "cell_type": "code",
   "execution_count": 7,
   "id": "a57e9b66",
   "metadata": {},
   "outputs": [
    {
     "name": "stdout",
     "output_type": "stream",
     "text": [
      "<U�G�4ʹ��vHW[L�Ϗ��\u000e����\u0004C��bx��/_%\u001b\u0001-��k��M��E��Br^~\u001a���~o�>�{c\u001d",
      "l3:0��-r��G�\"p��K6\u0015{f\r\n",
      "h�[���3�T����<a��0\u0004��`'�BYܡ��\u0015&��Y������\u001c",
      "U�t\u0013i\u0016�nQ\u0001>p,E\\�/�i�F���H�z\u001b�����͢-����\u00053�ؔ\u0002�h\u0001\u001e",
      "\u0012��d��!\u0001\u0015�1�\u0007�ԃ9\u001f���\r\n",
      "��\f",
      "���\u0014�[3g(�\u0006=Z���7Ͻ�\u0013�\u0006��b�+E�M� ���H�\u000b",
      "fͯȍ>�\u0007�\u0003�\u0011 ��\"��i~ec��m�\u000b",
      "B��\u000f(Ix\u0001�wO��K��6w^O\u001e",
      "wq�\u001c",
      "������xq�\u001b���0\u001c",
      "�K�De�0��\u001a���Va@�wF�K�s�d��Ř*qL\"��xx���Z�Q=�[C�\u0017\u0003X�'�\f",
      "�\r",
      "J,�W�q���<T못]�7lR(���\u0016eo|�Km��zᠱ<�p��i\b\u000f�\u001f����S�jؿ����9}$��\u0014����>�x\u0000����턫�\u001d",
      "[�7:�(uu��\b�e\u000b",
      "H;���\u000e��nemU���m\u0005���h\u0014��\u0004���\f",
      "��\bn\u0010�Q*��Y�T\u0010�\u0015�m��x��!�r\u0011w���0)Gܺ�K�\u0014�F�&�\u0004\u001fl\u0006K?�4�K�\u001f����U\r\n",
      "�\f",
      "��D~q\u0015���P���Bҝ�\u001b�\u000b",
      "�����\u0017۽\u0003sE]��\u0013��\u0019Y��M7�\t�����gS�ə1��\u0010\u0004���\u000f8o�K�24'ȅ>�L��J@�5�\u0012��)�c"
     ]
    }
   ],
   "source": [
    "# Попробуем прочитать зашифрованный файл\n",
    "!cat test_part1.txt.cricket"
   ]
  },
  {
   "cell_type": "code",
   "execution_count": 8,
   "id": "f9c858ee",
   "metadata": {},
   "outputs": [],
   "source": [
    "# Расшифруем файл в режиме простой замены\n",
    "!./cricket.py --decrypt --dummy \"test_part1.txt.cricket\" \"8899aabbccddeeff0011223344556677fedcba98765432100123456789abcdef\""
   ]
  },
  {
   "cell_type": "code",
   "execution_count": 9,
   "id": "b05d8d7d",
   "metadata": {},
   "outputs": [
    {
     "name": "stdout",
     "output_type": "stream",
     "text": [
      "total 548\r\n",
      "-rwxr-xr-x 1 evgeny evgeny  25651 Apr  6 19:21 cricket.py\r\n",
      "-rw-r--r-- 1 evgeny evgeny  37686 Apr  6 20:04 demo.ipynb\r\n",
      "drwxr-xr-x 2 evgeny evgeny   4096 Apr  6 19:39 __pycache__\r\n",
      "-rw-r--r-- 1 evgeny evgeny 410450 Apr  6 19:21 report.pdf\r\n",
      "-rw-r--r-- 1 evgeny evgeny    671 Apr  6 19:21 test_part1.txt\r\n",
      "-rw-r--r-- 1 evgeny evgeny    672 Apr  6 20:04 test_part1.txt.cricket\r\n",
      "-rw-r--r-- 1 evgeny evgeny    671 Apr  6 20:04 test_part1.txt.decrypted\r\n",
      "-rw-r--r-- 1 evgeny evgeny    660 Apr  6 19:21 test_part2.txt\r\n",
      "-rw-r--r-- 1 evgeny evgeny    629 Apr  6 19:21 test_part3.txt\r\n",
      "-rw-r--r-- 1 evgeny evgeny    655 Apr  6 19:21 test_part4.txt\r\n",
      "-rw-r--r-- 1 evgeny evgeny    683 Apr  6 19:21 test_part5.txt\r\n",
      "-rw-r--r-- 1 evgeny evgeny  41484 Apr  6 19:21 отчет.docx\r\n"
     ]
    }
   ],
   "source": [
    "# Видим что появился файл test_part1.txt.decrypted - результат работы\n",
    "!ls -l"
   ]
  },
  {
   "cell_type": "code",
   "execution_count": 10,
   "id": "f8a1d0ab",
   "metadata": {},
   "outputs": [
    {
     "name": "stdout",
     "output_type": "stream",
     "text": [
      "I\r\n",
      "«Мой дядя самых честных правил,\r\n",
      "Когда не в шутку занемог,\r\n",
      "Он уважать себя заставил\r\n",
      "И лучше выдумать не мог.\r\n",
      "Его пример другим наука;\r\n",
      "Но, боже мой, какая скука\r\n",
      "С больным сидеть и день и ночь,\r\n",
      "Не отходя ни шагу прочь!\r\n",
      "Какое низкое коварство\r\n",
      "Полуживого забавлять,\r\n",
      "Ему подушки поправлять,\r\n",
      "Печально подносить лекарство,\r\n",
      "Вздыхать и думать про себя:\r\n",
      "Когда же черт возьмет тебя!»"
     ]
    }
   ],
   "source": [
    "# Попробуем прочитать расшифрованный файл\n",
    "!cat test_part1.txt.decrypted"
   ]
  },
  {
   "cell_type": "code",
   "execution_count": 11,
   "id": "b266d529",
   "metadata": {},
   "outputs": [
    {
     "data": {
      "text/plain": [
       "True"
      ]
     },
     "execution_count": 11,
     "metadata": {},
     "output_type": "execute_result"
    }
   ],
   "source": [
    "# Проверим правильность расшифрования\n",
    "with open(\"test_part1.txt\", \"rb\") as file:\n",
    "    open_text = bytearray(file.read())\n",
    "    \n",
    "with open(\"test_part1.txt.decrypted\", \"rb\") as file:\n",
    "    decrypted_text = bytearray(file.read())\n",
    "    \n",
    "bool(open_text == decrypted_text)"
   ]
  },
  {
   "cell_type": "markdown",
   "id": "52054f58",
   "metadata": {},
   "source": [
    "### 4.2.2 Режим простой замены с зацеплением"
   ]
  },
  {
   "cell_type": "code",
   "execution_count": 12,
   "id": "c44372d7",
   "metadata": {},
   "outputs": [],
   "source": [
    "!./cricket.py --encrypt --cbc_mode \"test_part2.txt\" \"8899aabbccddeeff0011223344556677fedcba98765432100123456789abcdef\""
   ]
  },
  {
   "cell_type": "code",
   "execution_count": 13,
   "id": "be071aa5",
   "metadata": {},
   "outputs": [
    {
     "name": "stdout",
     "output_type": "stream",
     "text": [
      "total 552\r\n",
      "-rwxr-xr-x 1 evgeny evgeny  25651 Apr  6 19:21 cricket.py\r\n",
      "-rw-r--r-- 1 evgeny evgeny  37686 Apr  6 20:04 demo.ipynb\r\n",
      "drwxr-xr-x 2 evgeny evgeny   4096 Apr  6 19:39 __pycache__\r\n",
      "-rw-r--r-- 1 evgeny evgeny 410450 Apr  6 19:21 report.pdf\r\n",
      "-rw-r--r-- 1 evgeny evgeny    671 Apr  6 19:21 test_part1.txt\r\n",
      "-rw-r--r-- 1 evgeny evgeny    672 Apr  6 20:04 test_part1.txt.cricket\r\n",
      "-rw-r--r-- 1 evgeny evgeny    671 Apr  6 20:04 test_part1.txt.decrypted\r\n",
      "-rw-r--r-- 1 evgeny evgeny    660 Apr  6 19:21 test_part2.txt\r\n",
      "-rw-r--r-- 1 evgeny evgeny    704 Apr  6 20:04 test_part2.txt.cricket\r\n",
      "-rw-r--r-- 1 evgeny evgeny    629 Apr  6 19:21 test_part3.txt\r\n",
      "-rw-r--r-- 1 evgeny evgeny    655 Apr  6 19:21 test_part4.txt\r\n",
      "-rw-r--r-- 1 evgeny evgeny    683 Apr  6 19:21 test_part5.txt\r\n",
      "-rw-r--r-- 1 evgeny evgeny  41484 Apr  6 19:21 отчет.docx\r\n"
     ]
    }
   ],
   "source": [
    "# Видим что появился файл test_part2.txt.cricket - результат работы\n",
    "!ls -l"
   ]
  },
  {
   "cell_type": "code",
   "execution_count": 14,
   "id": "5c16ab63",
   "metadata": {},
   "outputs": [
    {
     "name": "stdout",
     "output_type": "stream",
     "text": [
      "�\u001d",
      "j�\u00105)ޙ��v%��b@��b-�L�ӧ�1��9�˄���\t����������^�بX�\u0003~骱���صN�R���;�L�!DJ��u;��~�HNݒ�*Jl����\u001a;�)�P�JtO\u0019���\u0007��ܭ�\u001b�q7t���l��\u000b",
      "��\u000e�Ft�8\"��ۺ�\u0001ݘVq�\u000f\t�\u0018C����\u0003C!4��m�Nw��$щugOE�ňY\u00076=��\u0005�;\u001f.��R��\u0000}\u001d",
      "�#�[�*��WgwT�Fr(e�WS����ݼ���<\u000b",
      "Oƚ�LǍ|�\u0007���-���%Yr��y\u001b����#�_6���\\����\u001c",
      "Fs{+y�O\u0016m\u001c",
      "&U&�U���ފ�c���\tx�w��nU\u001e",
      "w$�����\u0015�䧏\u0018�gs�6\tj\u00031�]bV�\u0018Z��oOc�dq[�\u0010\"�\u0003��e��+�s*A��;�\u0018�Y6E��V.$��r�n�⟢��5q\u001e",
      "O�K\u0007|��~h�(}T\u0007Z\u001bPMOzk�Ad\u0016r\u0006\u000b",
      "��ÉL1�O'fL;+��˯����\u000b",
      "�k��A�C$\u0013��s����;u�3��<� ��\r\n",
      "c\u0001�����\r",
      "�X��0i�y���F�\u0005�[�\u0007��3�\u0015��\u0006��ڣ�au�{�s0׭�w�9?*�ّ��@�ђ%W�d��tF �^\u0010�8���v\u000e���$�/꺻�(�j���6��bf��=h�W=���-�\u0006�U�b�����l=\u0012f4W��v�>�a\u001a���M�/��I���83Mg�^I�\"4 ����\u0000'��o;`�8�8���\u0001\u0006nu�v\u0006B.�NM\u000e�������ǉ\\���܇H��oH�GAb�3T�\u0016\u0010"
     ]
    }
   ],
   "source": [
    "# Попробуем прочитать зашифрованный файл\n",
    "!cat test_part2.txt.cricket"
   ]
  },
  {
   "cell_type": "code",
   "execution_count": 15,
   "id": "c984607f",
   "metadata": {},
   "outputs": [],
   "source": [
    "!./cricket.py --decrypt --cbc_mode \"test_part2.txt.cricket\" \"8899aabbccddeeff0011223344556677fedcba98765432100123456789abcdef\""
   ]
  },
  {
   "cell_type": "code",
   "execution_count": 16,
   "id": "85c9abc7",
   "metadata": {},
   "outputs": [
    {
     "name": "stdout",
     "output_type": "stream",
     "text": [
      "II\r\n",
      "Так думал молодой повеса,\r\n",
      "Летя в пыли на почтовых,\r\n",
      "Всевышней волею Зевеса\r\n",
      "Наследник всех своих родных.\r\n",
      "Друзья Людмилы и Руслана!\r\n",
      "С героем моего романа\r\n",
      "Без предисловий, сей же час\r\n",
      "Позвольте познакомить вас:\r\n",
      "Онегин, добрый мой приятель,\r\n",
      "Родился на брегах Невы,\r\n",
      "Где, может быть, родились вы\r\n",
      "Или блистали, мой читатель;\r\n",
      "Там некогда гулял и я:\r\n",
      "Но вреден север для меня 1."
     ]
    }
   ],
   "source": [
    "# Попробуем прочитать расшифрованный файл\n",
    "!cat test_part2.txt.decrypted"
   ]
  },
  {
   "cell_type": "code",
   "execution_count": 17,
   "id": "23bce45f",
   "metadata": {},
   "outputs": [
    {
     "data": {
      "text/plain": [
       "True"
      ]
     },
     "execution_count": 17,
     "metadata": {},
     "output_type": "execute_result"
    }
   ],
   "source": [
    "# Проверим правильность расшифрования\n",
    "with open(\"test_part2.txt\", \"rb\") as file:\n",
    "    open_text = bytearray(file.read())\n",
    "    \n",
    "with open(\"test_part2.txt.decrypted\", \"rb\") as file:\n",
    "    decrypted_text = bytearray(file.read())\n",
    "    \n",
    "bool(open_text == decrypted_text)"
   ]
  },
  {
   "cell_type": "markdown",
   "id": "93669e1c",
   "metadata": {},
   "source": [
    "### 4.2.3 Режим гаммирования"
   ]
  },
  {
   "cell_type": "code",
   "execution_count": 18,
   "id": "5509f0bf",
   "metadata": {},
   "outputs": [],
   "source": [
    "!./cricket.py --encrypt --ctr_mode \"test_part3.txt\" \"8899aabbccddeeff0011223344556677fedcba98765432100123456789abcdef\""
   ]
  },
  {
   "cell_type": "code",
   "execution_count": 19,
   "id": "dc8e32c4",
   "metadata": {},
   "outputs": [
    {
     "name": "stdout",
     "output_type": "stream",
     "text": [
      "total 560\r\n",
      "-rwxr-xr-x 1 evgeny evgeny  25651 Apr  6 19:21 cricket.py\r\n",
      "-rw-r--r-- 1 evgeny evgeny  37686 Apr  6 20:04 demo.ipynb\r\n",
      "drwxr-xr-x 2 evgeny evgeny   4096 Apr  6 19:39 __pycache__\r\n",
      "-rw-r--r-- 1 evgeny evgeny 410450 Apr  6 19:21 report.pdf\r\n",
      "-rw-r--r-- 1 evgeny evgeny    671 Apr  6 19:21 test_part1.txt\r\n",
      "-rw-r--r-- 1 evgeny evgeny    672 Apr  6 20:04 test_part1.txt.cricket\r\n",
      "-rw-r--r-- 1 evgeny evgeny    671 Apr  6 20:04 test_part1.txt.decrypted\r\n",
      "-rw-r--r-- 1 evgeny evgeny    660 Apr  6 19:21 test_part2.txt\r\n",
      "-rw-r--r-- 1 evgeny evgeny    704 Apr  6 20:04 test_part2.txt.cricket\r\n",
      "-rw-r--r-- 1 evgeny evgeny    660 Apr  6 20:04 test_part2.txt.decrypted\r\n",
      "-rw-r--r-- 1 evgeny evgeny    629 Apr  6 19:21 test_part3.txt\r\n",
      "-rw-r--r-- 1 evgeny evgeny    645 Apr  6 20:04 test_part3.txt.cricket\r\n",
      "-rw-r--r-- 1 evgeny evgeny    655 Apr  6 19:21 test_part4.txt\r\n",
      "-rw-r--r-- 1 evgeny evgeny    683 Apr  6 19:21 test_part5.txt\r\n",
      "-rw-r--r-- 1 evgeny evgeny  41484 Apr  6 19:21 отчет.docx\r\n"
     ]
    }
   ],
   "source": [
    "# Видим что появился файл test_part3.txt.cricket - результат работы\n",
    "!ls -l"
   ]
  },
  {
   "cell_type": "code",
   "execution_count": 20,
   "id": "3bd3b0c2",
   "metadata": {},
   "outputs": [
    {
     "name": "stdout",
     "output_type": "stream",
     "text": [
      "\f",
      "\u0015/���\f",
      "���\u0013�l�N�������\u0001\"�gfP���\u0010�5Hk��3a%j��=࢟GE��P������pU�a��&\u0005�c��Q�g�\f",
      "~�pQ�\f",
      "�D��,`<���V\u0014!���:S\u001b\u0007v:�װ�ܻw��a\u0003V\r",
      "���'��2s����Q���\u0018���\u0011\u0003�6\u0003\u0010+�E�<�j9\u0002D~{\u0000Bi�la�=�H�����L\u0013]���5`��\u000fT�\u0017t|��M�\u0013J��(_\u0005@�B��\u0006i�5��\b�m�2lZ�p��C��s��\b����A̞t�\u0017\t\u000f3��x�c��S��F��\r",
      "�x ���~\u0019lKo������.Z�9�F\u0003�����R0�j\t!-��yU\r\n",
      "a�ebW��X�+���J��X�o�NM�C���;ފ!cX1��.�c(�(f����W�\u0007���\u001d",
      "&� �Z�\u001c",
      "��\\�\u0010\u001e",
      "#\u0015ޗ2\u0007�\"�b�m�O�����o+P��\u0018K%e]\u0001�V\u0012w\u0016��л��\\�G�t�ҕvhv��f��\u000f��+{s�\t\u00023��m���&�4r4�Y�c\u001b@�\u0006A����Ӏ��b�\u00067�o�m�pS�8h�\u0007��o�������o4yK�\u001b\f",
      "qk�r$\u0001U#�WU��\u001a���Ple\u001d",
      "�$���>y\u001f9',����Vf�2�)��a�e��E�\u0005Z�ӔXg�6\f",
      "�:���:�n\u001f\u0000@\"��\u001c",
      "\u0003�?\u0004�`|�&q�n�|�͒:�Ց�����\u0004�\u0010����ޛI����^X'ե��O��[1'(%T^2���d��V�"
     ]
    }
   ],
   "source": [
    "# Попробуем прочитать зашифрованный файл\n",
    "!cat test_part3.txt.cricket"
   ]
  },
  {
   "cell_type": "code",
   "execution_count": 21,
   "id": "2705ac40",
   "metadata": {},
   "outputs": [],
   "source": [
    "!./cricket.py --decrypt --ctr_mode \"test_part3.txt.cricket\" \"8899aabbccddeeff0011223344556677fedcba98765432100123456789abcdef\""
   ]
  },
  {
   "cell_type": "code",
   "execution_count": 22,
   "id": "e07165b8",
   "metadata": {},
   "outputs": [
    {
     "name": "stdout",
     "output_type": "stream",
     "text": [
      "III\r\n",
      "Служив отлично благородно,\r\n",
      "Долгами жил его отец,\r\n",
      "Давал три бала ежегодно\r\n",
      "И промотался наконец.\r\n",
      "Судьба Евгения хранила:\r\n",
      "Сперва Madame за ним ходила,\r\n",
      "Потом Monsieur ее сменил.\r\n",
      "Ребенок был резов, но мил.\r\n",
      "Monsieur l'Abbé, француз убогой,\r\n",
      "Чтоб не измучилось дитя,\r\n",
      "Учил его всему шутя,\r\n",
      "Не докучал моралью строгой,\r\n",
      "Слегка за шалости бранил\r\n",
      "И в Летний сад гулять водил."
     ]
    }
   ],
   "source": [
    "# Попробуем прочитать зашифрованный файл\n",
    "!cat test_part3.txt.decrypted"
   ]
  },
  {
   "cell_type": "code",
   "execution_count": 23,
   "id": "d73e383f",
   "metadata": {},
   "outputs": [
    {
     "data": {
      "text/plain": [
       "True"
      ]
     },
     "execution_count": 23,
     "metadata": {},
     "output_type": "execute_result"
    }
   ],
   "source": [
    "# Проверим правильность расшифрования\n",
    "with open(\"test_part3.txt\", \"rb\") as file:\n",
    "    open_text = bytearray(file.read())\n",
    "    \n",
    "with open(\"test_part3.txt.decrypted\", \"rb\") as file:\n",
    "    decrypted_text = bytearray(file.read())\n",
    "    \n",
    "bool(open_text == decrypted_text)"
   ]
  },
  {
   "cell_type": "markdown",
   "id": "4eb4432a",
   "metadata": {},
   "source": [
    "### 4.2.4 Режим гаммирования с обратной связью по выходу"
   ]
  },
  {
   "cell_type": "code",
   "execution_count": 24,
   "id": "ca2240c1",
   "metadata": {},
   "outputs": [],
   "source": [
    "!./cricket.py --encrypt --ofb_mode \"test_part4.txt\" \"8899aabbccddeeff0011223344556677fedcba98765432100123456789abcdef\""
   ]
  },
  {
   "cell_type": "code",
   "execution_count": 25,
   "id": "a74e3c01",
   "metadata": {},
   "outputs": [
    {
     "name": "stdout",
     "output_type": "stream",
     "text": [
      "total 568\r\n",
      "-rwxr-xr-x 1 evgeny evgeny  25651 Apr  6 19:21 cricket.py\r\n",
      "-rw-r--r-- 1 evgeny evgeny  37686 Apr  6 20:04 demo.ipynb\r\n",
      "drwxr-xr-x 2 evgeny evgeny   4096 Apr  6 19:39 __pycache__\r\n",
      "-rw-r--r-- 1 evgeny evgeny 410450 Apr  6 19:21 report.pdf\r\n",
      "-rw-r--r-- 1 evgeny evgeny    671 Apr  6 19:21 test_part1.txt\r\n",
      "-rw-r--r-- 1 evgeny evgeny    672 Apr  6 20:04 test_part1.txt.cricket\r\n",
      "-rw-r--r-- 1 evgeny evgeny    671 Apr  6 20:04 test_part1.txt.decrypted\r\n",
      "-rw-r--r-- 1 evgeny evgeny    660 Apr  6 19:21 test_part2.txt\r\n",
      "-rw-r--r-- 1 evgeny evgeny    704 Apr  6 20:04 test_part2.txt.cricket\r\n",
      "-rw-r--r-- 1 evgeny evgeny    660 Apr  6 20:04 test_part2.txt.decrypted\r\n",
      "-rw-r--r-- 1 evgeny evgeny    629 Apr  6 19:21 test_part3.txt\r\n",
      "-rw-r--r-- 1 evgeny evgeny    645 Apr  6 20:04 test_part3.txt.cricket\r\n",
      "-rw-r--r-- 1 evgeny evgeny    629 Apr  6 20:04 test_part3.txt.decrypted\r\n",
      "-rw-r--r-- 1 evgeny evgeny    655 Apr  6 19:21 test_part4.txt\r\n",
      "-rw-r--r-- 1 evgeny evgeny    695 Apr  6 20:04 test_part4.txt.cricket\r\n",
      "-rw-r--r-- 1 evgeny evgeny    683 Apr  6 19:21 test_part5.txt\r\n",
      "-rw-r--r-- 1 evgeny evgeny  41484 Apr  6 19:21 отчет.docx\r\n"
     ]
    }
   ],
   "source": [
    "# Видим что появился файл test_part4.txt.cricket - результат работы\n",
    "!ls -l"
   ]
  },
  {
   "cell_type": "code",
   "execution_count": 26,
   "id": "8f9672a9",
   "metadata": {},
   "outputs": [
    {
     "name": "stdout",
     "output_type": "stream",
     "text": [
      "?W�\b��\u0014S\b\u001f�\t�oA�@��\u0010\\b\u0015\u0017(���TS�7�������-���ܜ�\u0013$\u001c",
      "���\u0003\u001d",
      "2㯨X�`\r\n",
      "�/\u0004\u0014���,d�7�\u000e\u000b",
      "�\u000f4���0\u0004����N�\u0000(\u0007R��R\\����\u0016��\u0006C�\u0016i K��B������\u0005��>#H �\r",
      "�{K���Pg� -7K��]���\u0011\u0015��WY�آ�֍e럠\u001b;{�jg��C��\r\n",
      "�gɤdذ�&�\u00100*=hҍz��\u001e",
      ";_a�,\u0019�\u0019�9C�\u00198z\u0000�\u0013?\u0013;迏���Ĳڥ�da5��?�\u0019�0��H\u00018��\u0004�!�7-ĥ\u0004���q\u0007���'<j��\u0015�\u000f��QGA\u001e",
      "�S�oX�ɠ�\u0016��\u0005ĵuds\u0003\u0004\u000b",
      "�\u001b�\u0012M�FQ芊��<=�O\u0000�.���^\u0018ɧ\u001f/�\u0012�\u0000\u0015�a��;c\u0001:�g*u���Z_6�~-\u0014-.\u001b|äz�8\u0004�0G�����'I²\u001b;l4��t��^�F�-�Y�,\u0004���Z�]�ҭ�������-��\u0014���-%��\u0005\u001d",
      "KԨ\u0014�c�ģ:\u0007E���\r",
      "\u0005��\u0003\u0016\"x\t��͢+��}���\u0006\u000e\u000e\u0002�`P\u001c",
      "䩖\f",
      "�O\t�\u001a��\u0003���\u00138D=\f",
      "\u0004FF�7w���\u0010$-��-�����4�������\u0010����z�KYuz��^\u0002n�\u0001W�s!\u0018o�b\u0017#�䵏�oU�M�CgiY�}l��\\\u001d",
      "\u0002�����\u0014�\u000f�_@L#�\u0001z:hG��:��\b��'>cU:\u001e",
      "'���o��\u0014&�³�<���V\u001ac8݂ׄ˺���5��>49��a��l�?,�Gb���\u0018\u000eE�&\u001f&\u0018\u0017���b\u001e",
      "'�f6d�'*�q�P���?"
     ]
    }
   ],
   "source": [
    "# Попробуем прочитать зашифрованный файл\n",
    "!cat test_part4.txt.cricket"
   ]
  },
  {
   "cell_type": "code",
   "execution_count": 27,
   "id": "12891c7e",
   "metadata": {},
   "outputs": [],
   "source": [
    "!./cricket.py --decrypt --ofb_mode \"test_part4.txt.cricket\" \"8899aabbccddeeff0011223344556677fedcba98765432100123456789abcdef\""
   ]
  },
  {
   "cell_type": "code",
   "execution_count": 28,
   "id": "b256d87f",
   "metadata": {},
   "outputs": [
    {
     "name": "stdout",
     "output_type": "stream",
     "text": [
      "IV\r\n",
      "Когда же юности мятежной\r\n",
      "Пришла Евгению пора,\r\n",
      "Пора надежд и грусти нежной,\r\n",
      "Monsieur прогнали со двора.\r\n",
      "Вот мой Онегин на свободе;\r\n",
      "Острижен по последней моде,\r\n",
      "Как dandy 2 лондонский одет —\r\n",
      "И наконец увидел свет.\r\n",
      "Он по-французски совершенно\r\n",
      "Мог изъясняться и писал;\r\n",
      "Легко мазурку танцевал\r\n",
      "И кланялся непринужденно;\r\n",
      "Чего ж вам больше? Свет решил,\r\n",
      "Что он умен и очень мил."
     ]
    }
   ],
   "source": [
    "# Попробуем прочитать зашифрованный файл\n",
    "!cat test_part4.txt.decrypted"
   ]
  },
  {
   "cell_type": "code",
   "execution_count": 29,
   "id": "9fb84d02",
   "metadata": {},
   "outputs": [
    {
     "data": {
      "text/plain": [
       "True"
      ]
     },
     "execution_count": 29,
     "metadata": {},
     "output_type": "execute_result"
    }
   ],
   "source": [
    "# Проверим правильность расшифрования\n",
    "with open(\"test_part4.txt\", \"rb\") as file:\n",
    "    open_text = bytearray(file.read())\n",
    "    \n",
    "with open(\"test_part4.txt.decrypted\", \"rb\") as file:\n",
    "    decrypted_text = bytearray(file.read())\n",
    "    \n",
    "bool(open_text == decrypted_text)"
   ]
  },
  {
   "cell_type": "markdown",
   "id": "9cf5271a",
   "metadata": {},
   "source": [
    "### 4.2.5 Режим гаммирования с обратной связью по шифртексту"
   ]
  },
  {
   "cell_type": "code",
   "execution_count": 30,
   "id": "393da517",
   "metadata": {},
   "outputs": [],
   "source": [
    "!./cricket.py --encrypt --cfb_mode \"test_part5.txt\" \"8899aabbccddeeff0011223344556677fedcba98765432100123456789abcdef\""
   ]
  },
  {
   "cell_type": "code",
   "execution_count": 31,
   "id": "1e64468f",
   "metadata": {},
   "outputs": [
    {
     "name": "stdout",
     "output_type": "stream",
     "text": [
      "total 576\r\n",
      "-rwxr-xr-x 1 evgeny evgeny  25651 Apr  6 19:21 cricket.py\r\n",
      "-rw-r--r-- 1 evgeny evgeny  37686 Apr  6 20:04 demo.ipynb\r\n",
      "drwxr-xr-x 2 evgeny evgeny   4096 Apr  6 19:39 __pycache__\r\n",
      "-rw-r--r-- 1 evgeny evgeny 410450 Apr  6 19:21 report.pdf\r\n",
      "-rw-r--r-- 1 evgeny evgeny    671 Apr  6 19:21 test_part1.txt\r\n",
      "-rw-r--r-- 1 evgeny evgeny    672 Apr  6 20:04 test_part1.txt.cricket\r\n",
      "-rw-r--r-- 1 evgeny evgeny    671 Apr  6 20:04 test_part1.txt.decrypted\r\n",
      "-rw-r--r-- 1 evgeny evgeny    660 Apr  6 19:21 test_part2.txt\r\n",
      "-rw-r--r-- 1 evgeny evgeny    704 Apr  6 20:04 test_part2.txt.cricket\r\n",
      "-rw-r--r-- 1 evgeny evgeny    660 Apr  6 20:04 test_part2.txt.decrypted\r\n",
      "-rw-r--r-- 1 evgeny evgeny    629 Apr  6 19:21 test_part3.txt\r\n",
      "-rw-r--r-- 1 evgeny evgeny    645 Apr  6 20:04 test_part3.txt.cricket\r\n",
      "-rw-r--r-- 1 evgeny evgeny    629 Apr  6 20:04 test_part3.txt.decrypted\r\n",
      "-rw-r--r-- 1 evgeny evgeny    655 Apr  6 19:21 test_part4.txt\r\n",
      "-rw-r--r-- 1 evgeny evgeny    695 Apr  6 20:04 test_part4.txt.cricket\r\n",
      "-rw-r--r-- 1 evgeny evgeny    655 Apr  6 20:04 test_part4.txt.decrypted\r\n",
      "-rw-r--r-- 1 evgeny evgeny    683 Apr  6 19:21 test_part5.txt\r\n",
      "-rw-r--r-- 1 evgeny evgeny    720 Apr  6 20:04 test_part5.txt.cricket\r\n",
      "-rw-r--r-- 1 evgeny evgeny  41484 Apr  6 19:21 отчет.docx\r\n"
     ]
    }
   ],
   "source": [
    "# Видим что появился файл test_part5.txt.cricket - результат работы\n",
    "!ls -l"
   ]
  },
  {
   "cell_type": "code",
   "execution_count": 32,
   "id": "54d74393",
   "metadata": {},
   "outputs": [],
   "source": [
    "!./cricket.py --decrypt --cfb_mode \"test_part5.txt.cricket\" \"8899aabbccddeeff0011223344556677fedcba98765432100123456789abcdef\""
   ]
  },
  {
   "cell_type": "code",
   "execution_count": 33,
   "id": "a7a3475d",
   "metadata": {},
   "outputs": [
    {
     "name": "stdout",
     "output_type": "stream",
     "text": [
      "V\r\n",
      "Мы все учились понемногу\r\n",
      "Чему-нибудь и как-нибудь,\r\n",
      "Так воспитаньем, слава богу,\r\n",
      "У нас немудрено блеснуть.\r\n",
      "Онегин был по мненью многих\r\n",
      "(Судей решительных и строгих)\r\n",
      "Ученый малый, но педант:\r\n",
      "Имел он счастливый талант\r\n",
      "Без принужденья в разговоре\r\n",
      "Коснуться до всего слегка,\r\n",
      "С ученым видом знатока\r\n",
      "Хранить молчанье в важном споре\r\n",
      "И возбуждать улыбку дам\r\n",
      "Огнем нежданных эпиграмм."
     ]
    }
   ],
   "source": [
    "# Попробуем прочитать зашифрованный файл\n",
    "!cat test_part5.txt.decrypted"
   ]
  },
  {
   "cell_type": "code",
   "execution_count": 34,
   "id": "ddf82b78",
   "metadata": {},
   "outputs": [
    {
     "data": {
      "text/plain": [
       "True"
      ]
     },
     "execution_count": 34,
     "metadata": {},
     "output_type": "execute_result"
    }
   ],
   "source": [
    "# Проверим правильность расшифрования\n",
    "\n",
    "with open(\"test_part5.txt\", \"rb\") as file:\n",
    "    open_text = bytearray(file.read())\n",
    "    \n",
    "with open(\"test_part5.txt.decrypted\", \"rb\") as file:\n",
    "    decrypted_text = bytearray(file.read())\n",
    "    \n",
    "bool(open_text == decrypted_text)"
   ]
  },
  {
   "cell_type": "markdown",
   "id": "9e75f9b4",
   "metadata": {},
   "source": [
    "### Спасибо за внимание и да пребудет с вами сила!\n",
    "\n",
    "<i>С уважением, Шараев Евгений!</i>"
   ]
  }
 ],
 "metadata": {
  "kernelspec": {
   "display_name": "Python 3 (ipykernel)",
   "language": "python",
   "name": "python3"
  },
  "language_info": {
   "codemirror_mode": {
    "name": "ipython",
    "version": 3
   },
   "file_extension": ".py",
   "mimetype": "text/x-python",
   "name": "python",
   "nbconvert_exporter": "python",
   "pygments_lexer": "ipython3",
   "version": "3.11.2"
  }
 },
 "nbformat": 4,
 "nbformat_minor": 5
}
